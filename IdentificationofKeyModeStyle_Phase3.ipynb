{
  "nbformat": 4,
  "nbformat_minor": 0,
  "metadata": {
    "colab": {
      "provenance": [],
      "authorship_tag": "ABX9TyOXspo6ib44IIeN8H281zAC",
      "include_colab_link": true
    },
    "kernelspec": {
      "name": "python3",
      "display_name": "Python 3"
    },
    "language_info": {
      "name": "python"
    }
  },
  "cells": [
    {
      "cell_type": "markdown",
      "metadata": {
        "id": "view-in-github",
        "colab_type": "text"
      },
      "source": [
        "<a href=\"https://colab.research.google.com/github/Henrymnt/IdentificationofKeyModeStyle/blob/main/IdentificationofKeyModeStyle_Phase3_ipynb.ipynb\" target=\"_parent\"><img src=\"https://colab.research.google.com/assets/colab-badge.svg\" alt=\"Open In Colab\"/></a>"
      ]
    },
    {
      "cell_type": "code",
      "execution_count": null,
      "metadata": {
        "cellView": "form",
        "id": "v9RThAPhnAqr"
      },
      "outputs": [],
      "source": [
        "#@title Import Dependencies/Libraries\n",
        "!pip3 install mido\n",
        "import mido, collections\n",
        "import math, random\n",
        "import numpy as np\n",
        "import pandas as pd\n",
        "import matplotlib.pyplot as plt\n",
        "import sklearn as sk\n",
        "import pickle"
      ]
    },
    {
      "cell_type": "code",
      "source": [
        "#@title Reading Dataset\n",
        "!git clone https://github.com/Henrymnt/sf_data_2025\n",
        "piece_data = pd.read_csv(\"/content/sf_data_2025/piece_data_full.csv\")\n",
        "labels = ['A','Bb','B','C','C#','D','Eb','E','F','F#','G','Ab']"
      ],
      "metadata": {
        "cellView": "form",
        "id": "tUDt9BkZoiY-"
      },
      "execution_count": null,
      "outputs": []
    },
    {
      "cell_type": "code",
      "source": [
        "#@title Data Augmentation (Key)\n",
        "i=0\n",
        "piece_data_addition=[]\n",
        "shuffled_data = piece_data.sample(frac=1)\n",
        "for frequency in piece_data.key.value_counts():\n",
        "  current_key = piece_data.key.value_counts().index[i]\n",
        "  current_frequency=frequency\n",
        "  while current_frequency <= 800:\n",
        "    for j in range(0,len(shuffled_data)):\n",
        "      current_row = shuffled_data.iloc[j]\n",
        "      # print(current_row)\n",
        "\n",
        "      if current_row[\"key\"] == current_key:\n",
        "        print(current_key, current_frequency)\n",
        "        new_row = current_row.copy()\n",
        "\n",
        "        keys = list(new_row.keys())\n",
        "        for k in range(0,len(new_row)):\n",
        "          if keys[k] != \"name\" and keys[k] != \"path\" and keys[k] != \"key\" and keys[k] != \"mode\" and keys[k] != \"style\":\n",
        "              new_row[keys[k]] += np.random.normal(0, (0.1*new_row[keys[k]]))\n",
        "\n",
        "        new_row[\"name\"]=new_row[\"name\"] + \" (Augmented)\"\n",
        "        new_row[\"path\"]=\"N/A (This piece of data was augmented)\"\n",
        "        # new_row = new_row.transpose()\n",
        "        piece_data_addition.append(new_row)\n",
        "        # print(piece_data_addition)\n",
        "        current_frequency+=1\n",
        "      if current_frequency > 800:\n",
        "        break\n",
        "\n",
        "  i+=1\n",
        "piece_data_addition = pd.DataFrame(piece_data_addition)\n",
        "piece_data.key.value_counts().plot(kind = 'bar')\n",
        "piece_data_key = pd.concat([piece_data, piece_data_addition], ignore_index=True)\n",
        "piece_data_key.key.value_counts().plot(kind = 'bar')\n",
        "# piece_data.describe()\n",
        "# style_data = pd.Series(piece_data[\"style\"]).value_counts()\n",
        "# piece_data.key.value_counts().plot(kind = 'bar')\n",
        "# print(piece_data.key.value_counts().index)"
      ],
      "metadata": {
        "cellView": "form",
        "id": "bD7SLJzDop5M"
      },
      "execution_count": null,
      "outputs": []
    },
    {
      "cell_type": "code",
      "source": [
        "#@title Preparing Data\n",
        "X = piece_data_key.drop(['key', 'style', 'mode', 'name', 'path', 'binaryrhythmrate','tripletenterrate','tripletexitrate','quintupletenterrate','quintupletexitrate'], axis = 1)\n",
        "# x = piece_data.iloc[:, 86:98]\n",
        "y = piece_data_key[\"key\"]\n",
        "# scaler = sk.preprocessing.StandardScaler()\n",
        "# x = scaler.fit_transform(X)\n",
        "# x = pd.DataFrame(x, columns= X.columns)\n",
        "# y = scaler.fit_transform(Y)\n",
        "# y = pd.DataFrame(y, columns= Y.columns)\n",
        "\n",
        "print(\"Shape:\", X.shape)\n",
        "print(\"Shape:\", y.shape)"
      ],
      "metadata": {
        "cellView": "form",
        "id": "MgqsYeDeotIK"
      },
      "execution_count": null,
      "outputs": []
    },
    {
      "cell_type": "code",
      "source": [
        "#@title Training the Model with Linear Regression Classifiers (Key)\n",
        "r = random.randint(1,16777216)\n",
        "print(r)\n",
        "X_train_data_key, X_test_data_key, y_train_data_key, y_test_data_key = sk.model_selection.train_test_split(X,y,test_size=0.1, random_state = r)\n",
        "\n",
        "key_model = sk.linear_model.LogisticRegression(penalty='l2',\n",
        "                                           dual=False,\n",
        "                                           tol=0.0001,\n",
        "                                           C=1,\n",
        "                                           fit_intercept=True,\n",
        "                                           intercept_scaling=1,\n",
        "                                           class_weight=None,\n",
        "                                           random_state=None,\n",
        "                                           solver='lbfgs',\n",
        "                                           max_iter=100,\n",
        "                                           verbose=1,\n",
        "                                           warm_start=True,\n",
        "                                           n_jobs=None,\n",
        "                                           l1_ratio=None\n",
        "                                           )\n",
        "key_model.fit(X_train_data_key, y_train_data_key)\n",
        "predictions = key_model.predict(X_test_data_key)\n",
        "# sk.metrics.confusion_matrix(y_test_data_key, predictions)\n",
        "ds = sk.metrics.ConfusionMatrixDisplay.from_estimator(key_model, X_test_data_key, y_test_data_key, labels=labels)\n",
        "ds.ax_.set_title(\"Confusion Matrix for Key Model\")\n",
        "ds.ax_.set_xlabel(\"Predicted Key\")\n",
        "ds.ax_.set_ylabel(\"True Key\")\n",
        "print(sk.metrics.accuracy_score(y_test_data_key, predictions))\n",
        "print(sk.metrics.balanced_accuracy_score(y_test_data_key, predictions))"
      ],
      "metadata": {
        "id": "FUB_7bvmovlG"
      },
      "execution_count": null,
      "outputs": []
    }
  ]
}
